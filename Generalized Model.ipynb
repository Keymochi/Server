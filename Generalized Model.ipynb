{
 "cells": [
  {
   "cell_type": "code",
   "execution_count": 334,
   "metadata": {
    "collapsed": false
   },
   "outputs": [],
   "source": [
    "import sys\n",
    "\n",
    "import numpy as np\n",
    "import collections\n",
    "from parse_rest.connection import register\n",
    "from parse_rest.datatypes import Object\n",
    "import key\n",
    "from sklearn.cross_validation import cross_val_score\n",
    "from sklearn.linear_model import LogisticRegression\n",
    "from sklearn import svm\n",
    "from sklearn.naive_bayes import GaussianNB\n",
    "from sklearn.ensemble import RandomForestClassifier\n",
    "\n",
    "register(key.APP_ID, key.REST_API_KEY)\n",
    "\n",
    "class DataChunk(Object):\n",
    "    pass"
   ]
  },
  {
   "cell_type": "code",
   "execution_count": null,
   "metadata": {
    "collapsed": true
   },
   "outputs": [],
   "source": [
    " "
   ]
  },
  {
   "cell_type": "code",
   "execution_count": 347,
   "metadata": {
    "collapsed": false
   },
   "outputs": [],
   "source": [
    "allData = DataChunk.Query.all().filter(appVersion__exists=True, interTapDistances__exists=True).limit(1000)\n",
    "hcData = allData.filter(userId='acsalu')\n",
    "coData = allData.filter(userId='co273')\n",
    "jeanData = allData.filter(userId='jean')"
   ]
  },
  {
   "cell_type": "code",
   "execution_count": 336,
   "metadata": {
    "collapsed": false
   },
   "outputs": [],
   "source": [
    "featureName = ['accelerationMagnitudes', 'totalNumberOfDeletions', 'gyroMagnitudes', \\\n",
    "                'interTapDistances', 'tapDurations', 'userId']\n",
    "emotions = {'Happy': 0, 'Neutral': 1, 'Calm': 1, 'Sad': 2, 'Angry': 3, 'Anxious': 4}\n",
    "uids = {'acsalu': 0, 'co273': 1, 'jean': 2}"
   ]
  },
  {
   "cell_type": "code",
   "execution_count": 337,
   "metadata": {
    "collapsed": true
   },
   "outputs": [],
   "source": [
    "def label_stats(data):\n",
    "    labels = map(lambda d: d.emotion, data)\n",
    "    counter = collections.Counter(labels)\n",
    "    return counter"
   ]
  },
  {
   "cell_type": "code",
   "execution_count": 377,
   "metadata": {
    "collapsed": false
   },
   "outputs": [
    {
     "name": "stdout",
     "output_type": "stream",
     "text": [
      "allData:  Counter({'Happy': 127, 'Calm': 90, 'Sad': 53, 'Angry': 5})   Total:  275\n",
      "hcData:  Counter({'Calm': 10, 'Happy': 8, 'Sad': 8})   Total:  26\n",
      "coData:  Counter({'Happy': 94, 'Calm': 68, 'Sad': 32, 'Angry': 5})   Total:  199\n",
      "jeanData:  Counter({'Happy': 25, 'Sad': 13, 'Calm': 12})   Total:  50\n"
     ]
    }
   ],
   "source": [
    "print('allData: ', label_stats(allData), '  Total: ', len(allData))\n",
    "print('hcData: ', label_stats(hcData), '  Total: ', len(hcData))\n",
    "print('coData: ', label_stats(coData), '  Total: ', len(coData))\n",
    "print('jeanData: ', label_stats(jeanData), '  Total: ', len(jeanData))"
   ]
  },
  {
   "cell_type": "code",
   "execution_count": 378,
   "metadata": {
    "collapsed": false
   },
   "outputs": [],
   "source": [
    "data = coData\n",
    "labels = list(map(lambda x: emotions[x.emotion], data))\n",
    "[accMag, ttlNODel, gyro, intTapDist, tapDur, uid] = \\\n",
    "    [[getattr(d, feature) for d in data] for feature in featureName]\n",
    "    \n",
    "aveAccMag, stdAccMag = [np.mean(a) for a in accMag], [np.std(a) for a in accMag]\n",
    "aveGyro, stdGyro = [np.mean(g) for g in gyro], [np.std(g) for g in gyro]\n",
    "aveIntTapDist, stdIntTapDist = [np.mean(i) for i in intTapDist], [np.std(i) for i in intTapDist]\n",
    "aveTapDur, stdTapDur = [np.mean(t) for t in tapDur], [np.std(t) for t in tapDur]\n",
    "uid_fea = list(map(lambda x: uids[x], uid))"
   ]
  },
  {
   "cell_type": "markdown",
   "metadata": {},
   "source": [
    "# Normalization"
   ]
  },
  {
   "cell_type": "code",
   "execution_count": 370,
   "metadata": {
    "collapsed": false
   },
   "outputs": [],
   "source": [
    "def normalize(feature):\n",
    "    std = np.std(feature)\n",
    "    if std == 0:\n",
    "        return feature-np.mean(feature)\n",
    "    return (feature-np.mean(feature))/np.std(feature)\n",
    "\n",
    "# features = [aveAccMag, stdAccMag, ttlNODel, aveGyro, stdGyro, aveIntTapDist, stdIntTapDist, \\\n",
    "#             aveTapDur, stdTapDur]\n",
    "features = [aveAccMag, stdAccMag, ttlNODel, aveGyro, stdGyro, aveIntTapDist, stdIntTapDist, \\\n",
    "            aveTapDur, stdTapDur, uid_fea]\n",
    "features = list(map(normalize, features))\n",
    "features = np.array(features).T"
   ]
  },
  {
   "cell_type": "markdown",
   "metadata": {
    "collapsed": false
   },
   "source": [
    "# Logistic Regression"
   ]
  },
  {
   "cell_type": "code",
   "execution_count": 371,
   "metadata": {
    "collapsed": false
   },
   "outputs": [
    {
     "name": "stdout",
     "output_type": "stream",
     "text": [
      "0.520536106234\n"
     ]
    }
   ],
   "source": [
    "model = LogisticRegression()\n",
    "score = cross_val_score(model, features, labels).mean()\n",
    "print(score)"
   ]
  },
  {
   "cell_type": "markdown",
   "metadata": {
    "collapsed": false
   },
   "source": [
    "# SVM"
   ]
  },
  {
   "cell_type": "code",
   "execution_count": 376,
   "metadata": {
    "collapsed": false
   },
   "outputs": [
    {
     "name": "stdout",
     "output_type": "stream",
     "text": [
      "0.592519937079\n"
     ]
    }
   ],
   "source": [
    "clf = svm.SVC()\n",
    "score = cross_val_score(clf, features, labels).mean()\n",
    "print(score)"
   ]
  },
  {
   "cell_type": "markdown",
   "metadata": {
    "collapsed": false
   },
   "source": [
    "# Naive Bayes"
   ]
  },
  {
   "cell_type": "code",
   "execution_count": 373,
   "metadata": {
    "collapsed": false
   },
   "outputs": [
    {
     "name": "stdout",
     "output_type": "stream",
     "text": [
      "0.32659770998\n"
     ]
    }
   ],
   "source": [
    "gnb = GaussianNB()\n",
    "score = cross_val_score(gnb, features, labels).mean()\n",
    "print(score)"
   ]
  },
  {
   "cell_type": "markdown",
   "metadata": {},
   "source": [
    "# Random Forest"
   ]
  },
  {
   "cell_type": "code",
   "execution_count": 374,
   "metadata": {
    "collapsed": false
   },
   "outputs": [
    {
     "name": "stdout",
     "output_type": "stream",
     "text": [
      "0.562509145449\n"
     ]
    }
   ],
   "source": [
    "rf = RandomForestClassifier()\n",
    "score = cross_val_score(rf, features, labels).mean()\n",
    "print(score)"
   ]
  },
  {
   "cell_type": "code",
   "execution_count": null,
   "metadata": {
    "collapsed": true
   },
   "outputs": [],
   "source": []
  }
 ],
 "metadata": {
  "kernelspec": {
   "display_name": "Python 3",
   "language": "python",
   "name": "python3"
  },
  "language_info": {
   "codemirror_mode": {
    "name": "ipython",
    "version": 3
   },
   "file_extension": ".py",
   "mimetype": "text/x-python",
   "name": "python",
   "nbconvert_exporter": "python",
   "pygments_lexer": "ipython3",
   "version": "3.5.1"
  }
 },
 "nbformat": 4,
 "nbformat_minor": 0
}
