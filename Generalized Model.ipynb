{
 "cells": [
  {
   "cell_type": "code",
   "execution_count": 14,
   "metadata": {
    "collapsed": false
   },
   "outputs": [
    {
     "name": "stdout",
     "output_type": "stream",
     "text": [
      "The autoreload extension is already loaded. To reload it, use:\n",
      "  %reload_ext autoreload\n"
     ]
    }
   ],
   "source": [
    "%load_ext autoreload\n",
    "%autoreload 2\n",
    "\n",
    "import sys\n",
    "\n",
    "import collections\n",
    "from parse_rest.connection import register\n",
    "from parse_rest.datatypes import Object\n",
    "import key\n",
    "from manager import KeyStrokeManager\n",
    "\n",
    "register(key.APP_ID, key.REST_API_KEY)\n",
    "\n",
    "class DataChunk(Object):\n",
    "    pass"
   ]
  },
  {
   "cell_type": "code",
   "execution_count": 15,
   "metadata": {
    "collapsed": false
   },
   "outputs": [],
   "source": [
    "allData = DataChunk.Query.all().filter(appVersion__exists=True, interTapDistances__exists=True).limit(1000)\n",
    "acsaluData = allData.filter(userId='acsalu')\n",
    "co273Data = allData.filter(userId='co273')\n",
    "jeanData = allData.filter(userId='jean')"
   ]
  },
  {
   "cell_type": "code",
   "execution_count": 16,
   "metadata": {
    "collapsed": true
   },
   "outputs": [],
   "source": [
    "def label_stats(data):\n",
    "    labels = map(lambda d: d.emotion, data)\n",
    "    counter = collections.Counter(labels)\n",
    "    return counter"
   ]
  },
  {
   "cell_type": "code",
   "execution_count": 17,
   "metadata": {
    "collapsed": false
   },
   "outputs": [
    {
     "name": "stdout",
     "output_type": "stream",
     "text": [
      "allData:  Counter({'Happy': 139, 'Calm': 124, 'Sad': 110, 'Angry': 5})   Total:  378\n",
      "acsaluData:  Counter({'Calm': 14, 'Happy': 13, 'Sad': 11})   Total:  38\n",
      "co273Data:  Counter({'Happy': 99, 'Sad': 86, 'Calm': 84, 'Angry': 5})   Total:  274\n",
      "jeanData:  Counter({'Happy': 27, 'Calm': 26, 'Sad': 13})   Total:  66\n"
     ]
    }
   ],
   "source": [
    "print('allData: ', label_stats(allData), '  Total: ', len(allData))\n",
    "print('acsaluData: ', label_stats(acsaluData), '  Total: ', len(acsaluData))\n",
    "print('co273Data: ', label_stats(co273Data), '  Total: ', len(co273Data))\n",
    "print('jeanData: ', label_stats(jeanData), '  Total: ', len(jeanData))"
   ]
  },
  {
   "cell_type": "code",
   "execution_count": 67,
   "metadata": {
    "collapsed": false
   },
   "outputs": [],
   "source": [
    "whoseData = 'co273' # all | acsalu | co273 | jean\n",
    "keyStrokeManager = KeyStrokeManager(co273Data)"
   ]
  },
  {
   "cell_type": "markdown",
   "metadata": {
    "collapsed": false
   },
   "source": [
    "# Logistic Regression"
   ]
  },
  {
   "cell_type": "code",
   "execution_count": 72,
   "metadata": {
    "collapsed": false
   },
   "outputs": [
    {
     "name": "stdout",
     "output_type": "stream",
     "text": [
      "0.506843800322\n"
     ]
    }
   ],
   "source": [
    "keyStrokeManager.logisticRegression()\n",
    "print(keyStrokeManager.crossValidScore())"
   ]
  },
  {
   "cell_type": "markdown",
   "metadata": {
    "collapsed": false
   },
   "source": [
    "# SVM"
   ]
  },
  {
   "cell_type": "code",
   "execution_count": 69,
   "metadata": {
    "collapsed": false
   },
   "outputs": [
    {
     "name": "stdout",
     "output_type": "stream",
     "text": [
      "0.492592592593\n"
     ]
    }
   ],
   "source": [
    "keyStrokeManager.svm()\n",
    "print(keyStrokeManager.crossValidScore())"
   ]
  },
  {
   "cell_type": "markdown",
   "metadata": {
    "collapsed": false
   },
   "source": [
    "# Naive Bayes"
   ]
  },
  {
   "cell_type": "code",
   "execution_count": 70,
   "metadata": {
    "collapsed": false
   },
   "outputs": [
    {
     "name": "stdout",
     "output_type": "stream",
     "text": [
      "0.445974235105\n"
     ]
    }
   ],
   "source": [
    "keyStrokeManager.naiveBayes()\n",
    "print(keyStrokeManager.crossValidScore())"
   ]
  },
  {
   "cell_type": "markdown",
   "metadata": {},
   "source": [
    "# Random Forest"
   ]
  },
  {
   "cell_type": "code",
   "execution_count": 71,
   "metadata": {
    "collapsed": false
   },
   "outputs": [
    {
     "name": "stdout",
     "output_type": "stream",
     "text": [
      "0.480998389694\n"
     ]
    }
   ],
   "source": [
    "keyStrokeManager.randomForest()\n",
    "print(keyStrokeManager.crossValidScore())"
   ]
  },
  {
   "cell_type": "markdown",
   "metadata": {},
   "source": [
    "# Export"
   ]
  },
  {
   "cell_type": "code",
   "execution_count": 73,
   "metadata": {
    "collapsed": false
   },
   "outputs": [],
   "source": [
    "m_path = 'pkl/'\n",
    "keyStrokeManager.saveParams(m_path + whoseData + '_params.csv')\n",
    "keyStrokeManager.saveModel(m_path + whoseData + '.pkl')"
   ]
  },
  {
   "cell_type": "code",
   "execution_count": null,
   "metadata": {
    "collapsed": true
   },
   "outputs": [],
   "source": []
  }
 ],
 "metadata": {
  "kernelspec": {
   "display_name": "Python 3",
   "language": "python",
   "name": "python3"
  },
  "language_info": {
   "codemirror_mode": {
    "name": "ipython",
    "version": 3
   },
   "file_extension": ".py",
   "mimetype": "text/x-python",
   "name": "python",
   "nbconvert_exporter": "python",
   "pygments_lexer": "ipython3",
   "version": "3.5.1"
  }
 },
 "nbformat": 4,
 "nbformat_minor": 0
}
