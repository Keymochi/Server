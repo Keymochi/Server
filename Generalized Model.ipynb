{
 "cells": [
  {
   "cell_type": "code",
   "execution_count": 41,
   "metadata": {
    "collapsed": false
   },
   "outputs": [],
   "source": [
    "import numpy as np\n",
    "from parse_rest.connection import register\n",
    "from parse_rest.datatypes import Object\n",
    "import key\n",
    "from sklearn.linear_model import LogisticRegression\n",
    "\n",
    "register(key.APP_ID, key.REST_API_KEY)\n",
    "\n",
    "class DataChunk(Object):\n",
    "    pass"
   ]
  },
  {
   "cell_type": "code",
   "execution_count": 27,
   "metadata": {
    "collapsed": false
   },
   "outputs": [],
   "source": [
    "allData = DataChunk.Query.all()\n",
    "hcData = allData.filter(userId='acsalu')\n",
    "coData = allData.filter(userId='copila')\n",
    "jeanData = allData.filter(userId='jean')"
   ]
  },
  {
   "cell_type": "code",
   "execution_count": 28,
   "metadata": {
    "collapsed": false
   },
   "outputs": [],
   "source": [
    "featureName = ['accelerationMagnitudes', 'totalNumberOfDeletions', 'gyroMagnitudes', \\\n",
    "                'interTapDistances', 'tapDurations']\n",
    "emotions = {'Happy': 0, 'Sad': 1, 'Neutral': 2}"
   ]
  },
  {
   "cell_type": "code",
   "execution_count": 10,
   "metadata": {
    "collapsed": false
   },
   "outputs": [
    {
     "name": "stdout",
     "output_type": "stream",
     "text": [
      "acsalu\n"
     ]
    }
   ],
   "source": [
    "print(allData[0].userId)"
   ]
  },
  {
   "cell_type": "code",
   "execution_count": 29,
   "metadata": {
    "collapsed": false
   },
   "outputs": [
    {
     "name": "stdout",
     "output_type": "stream",
     "text": [
      "[]\n",
      "[<DataChunk:HrYUYIwIdh>, <DataChunk:lDuwFI0DSx>, <DataChunk:rDrbIcS9vD>]\n"
     ]
    }
   ],
   "source": [
    "print(coData)\n",
    "print(allData)"
   ]
  },
  {
   "cell_type": "code",
   "execution_count": 66,
   "metadata": {
    "collapsed": false
   },
   "outputs": [],
   "source": [
    "labels = list(map(lambda x: emotions[x.emotion], allData))\n",
    "[accMag, ttlNODel, gyro, intTapDist, tapDur] = \\\n",
    "    [[getattr(data, featureName[idx]) for data in allData] for idx in range(len(featureName))]\n",
    "    \n",
    "aveAccMag, stdAccMag = [np.mean(a) for a in accMag], [np.std(a) for a in accMag]\n",
    "aveGyro, stdGyro = [np.mean(g) for g in gyro], [np.std(g) for g in gyro]\n",
    "aveIntTapDist, stdIntTapDist = [np.mean(i) for i in intTapDist], [np.std(i) for i in intTapDist]\n",
    "aveTapDur, stdTapDur = [np.mean(t) for t in tapDur], [np.std(t) for t in tapDur]"
   ]
  },
  {
   "cell_type": "code",
   "execution_count": 62,
   "metadata": {
    "collapsed": false
   },
   "outputs": [
    {
     "name": "stdout",
     "output_type": "stream",
     "text": [
      "[0.023283081131560662, 0.023283081131560662, 0.029472699502537454] [0.016076728480291985, 0.016076728480291985, 0.027670591952730441]\n",
      "[0.17171352788901648, 0.17171352788901648, 0.19508022618563575] [0.14149932138246304, 0.14149932138246304, 0.15513328893765371]\n",
      "[0.40352022915612906, 0.40352022915612906, 0.94013914460425851] [0.27008035418111825, 0.27008035418111825, 3.2737306412931355]\n",
      "[501.6062083304858, 501.6062083304858, 177.25180324568001] [573.99714874706399, 573.99714874706399, 358.6273725206388]\n"
     ]
    }
   ],
   "source": [
    "print(aveAccMag, stdAccMag)\n",
    "print(aveGyro, stdGyro)\n",
    "print(aveIntTapDist, stdIntTapDist)\n",
    "print(aveTapDur, stdTapDur)"
   ]
  },
  {
   "cell_type": "markdown",
   "metadata": {},
   "source": [
    "# Normalization"
   ]
  },
  {
   "cell_type": "code",
   "execution_count": null,
   "metadata": {
    "collapsed": false
   },
   "outputs": [],
   "source": []
  },
  {
   "cell_type": "markdown",
   "metadata": {
    "collapsed": false
   },
   "source": [
    "# Logistic Regression"
   ]
  },
  {
   "cell_type": "code",
   "execution_count": 67,
   "metadata": {
    "collapsed": false
   },
   "outputs": [
    {
     "name": "stdout",
     "output_type": "stream",
     "text": [
      "(3, 9)\n",
      "[2, 0, 1]\n"
     ]
    }
   ],
   "source": [
    "features = [aveAccMag, stdAccMag, ttlNODel, aveGyro, stdGyro, aveIntTapDist, stdIntTapDist, aveTapDur, stdTapDur]\n",
    "features = np.array(features).T\n",
    "print(features.shape)\n",
    "print(labels)"
   ]
  },
  {
   "cell_type": "code",
   "execution_count": 69,
   "metadata": {
    "collapsed": false
   },
   "outputs": [
    {
     "name": "stdout",
     "output_type": "stream",
     "text": [
      "0.666666666667\n"
     ]
    }
   ],
   "source": [
    "model = LogisticRegression()\n",
    "model.fit(features, labels)\n",
    "print(model.score(features, labels))"
   ]
  },
  {
   "cell_type": "code",
   "execution_count": null,
   "metadata": {
    "collapsed": true
   },
   "outputs": [],
   "source": []
  }
 ],
 "metadata": {
  "kernelspec": {
   "display_name": "Python 3",
   "language": "python",
   "name": "python3"
  },
  "language_info": {
   "codemirror_mode": {
    "name": "ipython",
    "version": 3
   },
   "file_extension": ".py",
   "mimetype": "text/x-python",
   "name": "python",
   "nbconvert_exporter": "python",
   "pygments_lexer": "ipython3",
   "version": "3.5.1"
  }
 },
 "nbformat": 4,
 "nbformat_minor": 0
}
