{
 "cells": [
  {
   "cell_type": "code",
   "execution_count": 1,
   "metadata": {
    "collapsed": false
   },
   "outputs": [],
   "source": [
    "%load_ext autoreload\n",
    "%autoreload 2\n",
    "\n",
    "import sys\n",
    "\n",
    "import collections\n",
    "from parse_rest.connection import register\n",
    "from parse_rest.datatypes import Object\n",
    "import key\n",
    "from manager import KeyStrokeManager\n",
    "\n",
    "register(key.APP_ID, key.REST_API_KEY)\n",
    "\n",
    "class DataChunk(Object):\n",
    "    pass"
   ]
  },
  {
   "cell_type": "code",
   "execution_count": 51,
   "metadata": {
    "collapsed": false
   },
   "outputs": [],
   "source": [
    "allData = DataChunk.Query.all().filter(appVersion__exists=True, interTapDistances__exists=True).limit(1000)\n",
    "acsaluData = allData.filter(userId='acsalu')\n",
    "co273Data = allData.filter(userId='co273')\n",
    "jeanData = allData.filter(userId='jean')"
   ]
  },
  {
   "cell_type": "code",
   "execution_count": 52,
   "metadata": {
    "collapsed": true
   },
   "outputs": [],
   "source": [
    "def label_stats(data):\n",
    "    labels = map(lambda d: d.emotion, data)\n",
    "    counter = collections.Counter(labels)\n",
    "    return counter"
   ]
  },
  {
   "cell_type": "code",
   "execution_count": 54,
   "metadata": {
    "collapsed": false
   },
   "outputs": [
    {
     "name": "stdout",
     "output_type": "stream",
     "text": [
      "allData:  Counter({'Happy': 129, 'Calm': 90, 'Sad': 54, 'Angry': 5})   Total:  278\n",
      "acsaluData:  Counter({'Calm': 10, 'Sad': 9, 'Happy': 9})   Total:  28\n",
      "co273Data:  Counter({'Happy': 94, 'Calm': 68, 'Sad': 32, 'Angry': 5})   Total:  199\n",
      "jeanData:  Counter({'Happy': 26, 'Sad': 13, 'Calm': 12})   Total:  51\n"
     ]
    }
   ],
   "source": [
    "print('allData: ', label_stats(allData), '  Total: ', len(allData))\n",
    "print('acsaluData: ', label_stats(acsaluData), '  Total: ', len(acsaluData))\n",
    "print('co273Data: ', label_stats(co273Data), '  Total: ', len(co273Data))\n",
    "print('jeanData: ', label_stats(jeanData), '  Total: ', len(jeanData))"
   ]
  },
  {
   "cell_type": "code",
   "execution_count": 75,
   "metadata": {
    "collapsed": false
   },
   "outputs": [],
   "source": [
    "whoseData = 'jean' # all | acsalu | co273 | jean\n",
    "keyStrokeManager = KeyStrokeManager(jeanData)"
   ]
  },
  {
   "cell_type": "markdown",
   "metadata": {
    "collapsed": false
   },
   "source": [
    "# Logistic Regression"
   ]
  },
  {
   "cell_type": "code",
   "execution_count": 80,
   "metadata": {
    "collapsed": false
   },
   "outputs": [
    {
     "name": "stdout",
     "output_type": "stream",
     "text": [
      "0.724945533769\n"
     ]
    }
   ],
   "source": [
    "keyStrokeManager.logisticRegression()\n",
    "print(keyStrokeManager.crossValidScore())"
   ]
  },
  {
   "cell_type": "markdown",
   "metadata": {
    "collapsed": false
   },
   "source": [
    "# SVM"
   ]
  },
  {
   "cell_type": "code",
   "execution_count": 77,
   "metadata": {
    "collapsed": false
   },
   "outputs": [
    {
     "name": "stdout",
     "output_type": "stream",
     "text": [
      "0.687908496732\n"
     ]
    }
   ],
   "source": [
    "keyStrokeManager.svm()\n",
    "print(keyStrokeManager.crossValidScore())"
   ]
  },
  {
   "cell_type": "markdown",
   "metadata": {
    "collapsed": false
   },
   "source": [
    "# Naive Bayes"
   ]
  },
  {
   "cell_type": "code",
   "execution_count": 78,
   "metadata": {
    "collapsed": false
   },
   "outputs": [
    {
     "name": "stdout",
     "output_type": "stream",
     "text": [
      "0.646241830065\n"
     ]
    }
   ],
   "source": [
    "keyStrokeManager.naiveBayes()\n",
    "print(keyStrokeManager.crossValidScore())"
   ]
  },
  {
   "cell_type": "markdown",
   "metadata": {},
   "source": [
    "# Random Forest"
   ]
  },
  {
   "cell_type": "code",
   "execution_count": 79,
   "metadata": {
    "collapsed": false
   },
   "outputs": [
    {
     "name": "stdout",
     "output_type": "stream",
     "text": [
      "0.819716775599\n"
     ]
    }
   ],
   "source": [
    "keyStrokeManager.randomForest()\n",
    "print(keyStrokeManager.crossValidScore())"
   ]
  },
  {
   "cell_type": "markdown",
   "metadata": {},
   "source": [
    "# Export"
   ]
  },
  {
   "cell_type": "code",
   "execution_count": 81,
   "metadata": {
    "collapsed": false
   },
   "outputs": [],
   "source": [
    "m_path = 'pkl/'\n",
    "keyStrokeManager.saveParams(m_path + whoseData + '_params.csv')\n",
    "keyStrokeManager.saveModel(m_path + whoseData + '.pkl')"
   ]
  },
  {
   "cell_type": "code",
   "execution_count": null,
   "metadata": {
    "collapsed": true
   },
   "outputs": [],
   "source": []
  }
 ],
 "metadata": {
  "kernelspec": {
   "display_name": "Python 3",
   "language": "python",
   "name": "python3"
  },
  "language_info": {
   "codemirror_mode": {
    "name": "ipython",
    "version": 3
   },
   "file_extension": ".py",
   "mimetype": "text/x-python",
   "name": "python",
   "nbconvert_exporter": "python",
   "pygments_lexer": "ipython3",
   "version": "3.5.1"
  }
 },
 "nbformat": 4,
 "nbformat_minor": 0
}
