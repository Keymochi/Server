{
 "cells": [
  {
   "cell_type": "code",
   "execution_count": 547,
   "metadata": {
    "collapsed": false
   },
   "outputs": [
    {
     "name": "stdout",
     "output_type": "stream",
     "text": [
      "The autoreload extension is already loaded. To reload it, use:\n",
      "  %reload_ext autoreload\n"
     ]
    }
   ],
   "source": [
    "%load_ext autoreload\n",
    "%autoreload 2\n",
    "\n",
    "import sys\n",
    "\n",
    "import collections\n",
    "from parse_rest.connection import register\n",
    "from parse_rest.datatypes import Object\n",
    "import key\n",
    "from manager import KeyStrokeManager\n",
    "\n",
    "register(key.APP_ID, key.REST_API_KEY)\n",
    "\n",
    "class DataChunk(Object):\n",
    "    pass"
   ]
  },
  {
   "cell_type": "code",
   "execution_count": 550,
   "metadata": {
    "collapsed": false
   },
   "outputs": [
    {
     "name": "stdout",
     "output_type": "stream",
     "text": [
      "Sad\n"
     ]
    }
   ],
   "source": [
    "print(DataChunk.Query.all().order_by('-createdAt').limit(1)[0].emotion)"
   ]
  },
  {
   "cell_type": "code",
   "execution_count": 530,
   "metadata": {
    "collapsed": false
   },
   "outputs": [],
   "source": [
    "allData = DataChunk.Query.all().filter(appVersion__exists=True, interTapDistances__exists=True).limit(1000)\n",
    "hcData = allData.filter(userId='acsalu')\n",
    "coData = allData.filter(userId='co273')\n",
    "jeanData = allData.filter(userId='jean')"
   ]
  },
  {
   "cell_type": "code",
   "execution_count": 531,
   "metadata": {
    "collapsed": true
   },
   "outputs": [],
   "source": [
    "def label_stats(data):\n",
    "    labels = map(lambda d: d.emotion, data)\n",
    "    counter = collections.Counter(labels)\n",
    "    return counter"
   ]
  },
  {
   "cell_type": "code",
   "execution_count": 532,
   "metadata": {
    "collapsed": false
   },
   "outputs": [
    {
     "name": "stdout",
     "output_type": "stream",
     "text": [
      "allData:  Counter({'Happy': 129, 'Calm': 90, 'Sad': 54, 'Angry': 5})   Total:  278\n",
      "hcData:  Counter({'Calm': 10, 'Happy': 9, 'Sad': 9})   Total:  28\n",
      "coData:  Counter({'Happy': 94, 'Calm': 68, 'Sad': 32, 'Angry': 5})   Total:  199\n",
      "jeanData:  Counter({'Happy': 26, 'Sad': 13, 'Calm': 12})   Total:  51\n"
     ]
    }
   ],
   "source": [
    "print('allData: ', label_stats(allData), '  Total: ', len(allData))\n",
    "print('hcData: ', label_stats(hcData), '  Total: ', len(hcData))\n",
    "print('coData: ', label_stats(coData), '  Total: ', len(coData))\n",
    "print('jeanData: ', label_stats(jeanData), '  Total: ', len(jeanData))"
   ]
  },
  {
   "cell_type": "code",
   "execution_count": 558,
   "metadata": {
    "collapsed": false
   },
   "outputs": [],
   "source": [
    "keyStrokeManager = KeyStrokeManager(jeanData)"
   ]
  },
  {
   "cell_type": "markdown",
   "metadata": {
    "collapsed": false
   },
   "source": [
    "# Logistic Regression"
   ]
  },
  {
   "cell_type": "code",
   "execution_count": 559,
   "metadata": {
    "collapsed": false
   },
   "outputs": [
    {
     "name": "stdout",
     "output_type": "stream",
     "text": [
      "0.724945533769\n"
     ]
    }
   ],
   "source": [
    "keyStrokeManager.logisticRegression()\n",
    "print(keyStrokeManager.crossValidScore())"
   ]
  },
  {
   "cell_type": "markdown",
   "metadata": {
    "collapsed": false
   },
   "source": [
    "# SVM"
   ]
  },
  {
   "cell_type": "code",
   "execution_count": 542,
   "metadata": {
    "collapsed": false
   },
   "outputs": [
    {
     "name": "stdout",
     "output_type": "stream",
     "text": [
      "0.687908496732\n"
     ]
    }
   ],
   "source": [
    "keyStrokeManager.svm()\n",
    "print(keyStrokeManager.crossValidScore())"
   ]
  },
  {
   "cell_type": "markdown",
   "metadata": {
    "collapsed": false
   },
   "source": [
    "# Naive Bayes"
   ]
  },
  {
   "cell_type": "code",
   "execution_count": 543,
   "metadata": {
    "collapsed": false
   },
   "outputs": [
    {
     "name": "stdout",
     "output_type": "stream",
     "text": [
      "0.646241830065\n"
     ]
    }
   ],
   "source": [
    "keyStrokeManager.naiveBayes()\n",
    "print(keyStrokeManager.crossValidScore())"
   ]
  },
  {
   "cell_type": "markdown",
   "metadata": {},
   "source": [
    "# Random Forest"
   ]
  },
  {
   "cell_type": "code",
   "execution_count": 545,
   "metadata": {
    "collapsed": false
   },
   "outputs": [
    {
     "name": "stdout",
     "output_type": "stream",
     "text": [
      "0.703976034858\n"
     ]
    }
   ],
   "source": [
    "keyStrokeManager.randomForest()\n",
    "print(keyStrokeManager.crossValidScore())"
   ]
  },
  {
   "cell_type": "markdown",
   "metadata": {},
   "source": [
    "# Export"
   ]
  },
  {
   "cell_type": "code",
   "execution_count": 561,
   "metadata": {
    "collapsed": false
   },
   "outputs": [],
   "source": [
    "keyStrokeManager.saveParams()\n",
    "keyStrokeManager.saveModel()"
   ]
  },
  {
   "cell_type": "code",
   "execution_count": null,
   "metadata": {
    "collapsed": true
   },
   "outputs": [],
   "source": []
  }
 ],
 "metadata": {
  "kernelspec": {
   "display_name": "Python 3",
   "language": "python",
   "name": "python3"
  },
  "language_info": {
   "codemirror_mode": {
    "name": "ipython",
    "version": 3
   },
   "file_extension": ".py",
   "mimetype": "text/x-python",
   "name": "python",
   "nbconvert_exporter": "python",
   "pygments_lexer": "ipython3",
   "version": "3.5.1"
  }
 },
 "nbformat": 4,
 "nbformat_minor": 0
}
