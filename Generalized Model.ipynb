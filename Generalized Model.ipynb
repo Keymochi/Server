{
 "cells": [
  {
   "cell_type": "code",
   "execution_count": 165,
   "metadata": {
    "collapsed": false
   },
   "outputs": [],
   "source": [
    "import numpy as np\n",
    "import collections\n",
    "from parse_rest.connection import register\n",
    "from parse_rest.datatypes import Object\n",
    "import key\n",
    "from sklearn.linear_model import LogisticRegression\n",
    "from sklearn import svm\n",
    "from sklearn.naive_bayes import GaussianNB\n",
    "from sklearn.ensemble import RandomForestClassifier\n",
    "from sklearn import cross_validation\n",
    "\n",
    "register(key.APP_ID, key.REST_API_KEY)\n",
    "\n",
    "class DataChunk(Object):\n",
    "    pass"
   ]
  },
  {
   "cell_type": "code",
   "execution_count": 224,
   "metadata": {
    "collapsed": false
   },
   "outputs": [],
   "source": [
    "allData = DataChunk.Query.all().filter(appVersion='0.3.1', interTapDistances__exists=True).limit(1000)\n",
    "hcData = allData.filter(userId='acsalu')\n",
    "coData = allData.filter(userId='co273')\n",
    "jeanData = allData.filter(userId='jean')"
   ]
  },
  {
   "cell_type": "code",
   "execution_count": 225,
   "metadata": {
    "collapsed": false
   },
   "outputs": [],
   "source": [
    "featureName = ['accelerationMagnitudes', 'totalNumberOfDeletions', 'gyroMagnitudes', \\\n",
    "                'interTapDistances', 'tapDurations', 'userId']\n",
    "emotions = {'Happy': 0, 'Neutral': 1, 'Calm': 1, 'Sad': 2, 'Angry': 3, 'Anxious': 4}\n",
    "uids = {'acsalu': 0, 'co273': 1, 'jean': 2}"
   ]
  },
  {
   "cell_type": "code",
   "execution_count": 226,
   "metadata": {
    "collapsed": true
   },
   "outputs": [],
   "source": [
    "def label_stats(data):\n",
    "    labels = map(lambda d: d.emotion, data)\n",
    "    counter = collections.Counter(labels)\n",
    "    return counter"
   ]
  },
  {
   "cell_type": "code",
   "execution_count": 227,
   "metadata": {
    "collapsed": false
   },
   "outputs": [
    {
     "name": "stdout",
     "output_type": "stream",
     "text": [
      "allData:  Counter({'Happy': 111, 'Calm': 82, 'Sad': 52, 'Angry': 5})   Total:  250\n",
      "hcData:  Counter({'Calm': 9, 'Sad': 7, 'Happy': 6})   Total:  22\n",
      "coData:  Counter({'Happy': 94, 'Calm': 61, 'Sad': 32, 'Angry': 5})   Total:  192\n",
      "jeanData:  Counter({'Sad': 13, 'Calm': 12, 'Happy': 11})   Total:  36\n"
     ]
    }
   ],
   "source": [
    "print('allData: ', label_stats(allData), '  Total: ', len(allData))\n",
    "print('hcData: ', label_stats(hcData), '  Total: ', len(hcData))\n",
    "print('coData: ', label_stats(coData), '  Total: ', len(coData))\n",
    "print('jeanData: ', label_stats(jeanData), '  Total: ', len(jeanData))"
   ]
  },
  {
   "cell_type": "code",
   "execution_count": 228,
   "metadata": {
    "collapsed": false
   },
   "outputs": [],
   "source": [
    "data = coData\n",
    "labels = list(map(lambda x: emotions[x.emotion], data))\n",
    "[accMag, ttlNODel, gyro, intTapDist, tapDur, uid] = \\\n",
    "    [[getattr(d, feature) for d in data] for feature in featureName]\n",
    "    \n",
    "aveAccMag, stdAccMag = [np.mean(a) for a in accMag], [np.std(a) for a in accMag]\n",
    "aveGyro, stdGyro = [np.mean(g) for g in gyro], [np.std(g) for g in gyro]\n",
    "aveIntTapDist, stdIntTapDist = [np.mean(i) for i in intTapDist], [np.std(i) for i in intTapDist]\n",
    "aveTapDur, stdTapDur = [np.mean(t) for t in tapDur], [np.std(t) for t in tapDur]\n",
    "uid_fea = list(map(lambda x: uids[x], uid))"
   ]
  },
  {
   "cell_type": "markdown",
   "metadata": {},
   "source": [
    "# Normalization"
   ]
  },
  {
   "cell_type": "code",
   "execution_count": 229,
   "metadata": {
    "collapsed": false
   },
   "outputs": [],
   "source": [
    "def normalize(feature):\n",
    "    std = np.std(feature)\n",
    "    if std == 0:\n",
    "        return feature-np.mean(feature)\n",
    "    return (feature-np.mean(feature))/np.std(feature)\n",
    "\n",
    "features = [aveAccMag, stdAccMag, ttlNODel, aveGyro, stdGyro, aveIntTapDist, stdIntTapDist, \\\n",
    "            aveTapDur, stdTapDur]\n",
    "# features = [aveAccMag, stdAccMag, ttlNODel, aveGyro, stdGyro, aveIntTapDist, stdIntTapDist, \\\n",
    "#             aveTapDur, stdTapDur, uid_fea]\n",
    "features = list(map(normalize, features))\n",
    "features = np.array(features).T\n",
    "X_train, X_test, y_train, y_test = cross_validation.train_test_split(\n",
    "    features, labels, test_size=0.3, random_state=0)"
   ]
  },
  {
   "cell_type": "markdown",
   "metadata": {
    "collapsed": false
   },
   "source": [
    "# Logistic Regression"
   ]
  },
  {
   "cell_type": "code",
   "execution_count": 230,
   "metadata": {
    "collapsed": false
   },
   "outputs": [
    {
     "name": "stdout",
     "output_type": "stream",
     "text": [
      "0.655172413793\n"
     ]
    }
   ],
   "source": [
    "model = LogisticRegression()\n",
    "model.fit(X_train, y_train)\n",
    "print(model.score(X_test, y_test))"
   ]
  },
  {
   "cell_type": "markdown",
   "metadata": {
    "collapsed": false
   },
   "source": [
    "# SVM"
   ]
  },
  {
   "cell_type": "code",
   "execution_count": 231,
   "metadata": {
    "collapsed": false
   },
   "outputs": [
    {
     "name": "stdout",
     "output_type": "stream",
     "text": [
      "0.724137931034\n"
     ]
    }
   ],
   "source": [
    "clf = svm.SVC()\n",
    "clf.fit(X_train, y_train)\n",
    "print(clf.score(X_test, y_test))"
   ]
  },
  {
   "cell_type": "markdown",
   "metadata": {
    "collapsed": false
   },
   "source": [
    "# Naive Bayes"
   ]
  },
  {
   "cell_type": "code",
   "execution_count": 232,
   "metadata": {
    "collapsed": false
   },
   "outputs": [
    {
     "name": "stdout",
     "output_type": "stream",
     "text": [
      "0.425373134328\n"
     ]
    }
   ],
   "source": [
    "gnb = GaussianNB()\n",
    "gnb.fit(X_train, y_train)\n",
    "print(gnb.score(X_train, y_train))"
   ]
  },
  {
   "cell_type": "markdown",
   "metadata": {},
   "source": [
    "# Random Forest"
   ]
  },
  {
   "cell_type": "code",
   "execution_count": 233,
   "metadata": {
    "collapsed": false
   },
   "outputs": [
    {
     "name": "stdout",
     "output_type": "stream",
     "text": [
      "0.706896551724\n"
     ]
    }
   ],
   "source": [
    "rf = RandomForestClassifier()\n",
    "rf.fit(X_train, y_train)\n",
    "print(rf.score(X_test, y_test))"
   ]
  },
  {
   "cell_type": "code",
   "execution_count": null,
   "metadata": {
    "collapsed": true
   },
   "outputs": [],
   "source": []
  }
 ],
 "metadata": {
  "kernelspec": {
   "display_name": "Python 3",
   "language": "python",
   "name": "python3"
  },
  "language_info": {
   "codemirror_mode": {
    "name": "ipython",
    "version": 3
   },
   "file_extension": ".py",
   "mimetype": "text/x-python",
   "name": "python",
   "nbconvert_exporter": "python",
   "pygments_lexer": "ipython3",
   "version": "3.5.1"
  }
 },
 "nbformat": 4,
 "nbformat_minor": 0
}
